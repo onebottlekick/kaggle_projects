{
 "cells": [
  {
   "cell_type": "code",
   "execution_count": 1,
   "metadata": {},
   "outputs": [],
   "source": [
    "import tensorflow as tf"
   ]
  },
  {
   "cell_type": "code",
   "execution_count": 2,
   "metadata": {},
   "outputs": [],
   "source": [
    "from utils import load_data\n",
    "\n",
    "X_train, X_val, X_test, y_train, y_val, y_test = load_data()"
   ]
  },
  {
   "cell_type": "code",
   "execution_count": 3,
   "metadata": {},
   "outputs": [],
   "source": [
    "X_train = (X_train/255.0).reshape(-1, 28, 28, 1)\n",
    "X_val = (X_val/255.0).reshape(-1, 28, 28, 1)\n",
    "X_test = (X_test/255.0).reshape(-1, 28, 28, 1)"
   ]
  },
  {
   "cell_type": "code",
   "execution_count": 4,
   "metadata": {},
   "outputs": [],
   "source": [
    "model = tf.keras.models.Sequential([\n",
    "    tf.keras.layers.Input(shape=(28, 28, 1)),\n",
    "    tf.keras.layers.Conv2D(64, (5, 5), padding='valid', activation='relu'),\n",
    "    tf.keras.layers.MaxPooling2D((2, 2)),\n",
    "    tf.keras.layers.BatchNormalization(),\n",
    "    tf.keras.layers.Conv2D(64, (5, 5), padding='valid', activation='relu'),\n",
    "    tf.keras.layers.MaxPooling2D((2, 2)),\n",
    "    tf.keras.layers.BatchNormalization(),\n",
    "    tf.keras.layers.Flatten(),\n",
    "    tf.keras.layers.Dense(256, activation='relu'),\n",
    "    tf.keras.layers.Dense(10, activation='softmax')\n",
    "\n",
    "])"
   ]
  },
  {
   "cell_type": "code",
   "execution_count": 5,
   "metadata": {},
   "outputs": [
    {
     "name": "stdout",
     "output_type": "stream",
     "text": [
      "Model: \"sequential\"\n",
      "_________________________________________________________________\n",
      " Layer (type)                Output Shape              Param #   \n",
      "=================================================================\n",
      " conv2d (Conv2D)             (None, 24, 24, 64)        1664      \n",
      "                                                                 \n",
      " max_pooling2d (MaxPooling2D  (None, 12, 12, 64)       0         \n",
      " )                                                               \n",
      "                                                                 \n",
      " batch_normalization (BatchN  (None, 12, 12, 64)       256       \n",
      " ormalization)                                                   \n",
      "                                                                 \n",
      " conv2d_1 (Conv2D)           (None, 8, 8, 64)          102464    \n",
      "                                                                 \n",
      " max_pooling2d_1 (MaxPooling  (None, 4, 4, 64)         0         \n",
      " 2D)                                                             \n",
      "                                                                 \n",
      " batch_normalization_1 (Batc  (None, 4, 4, 64)         256       \n",
      " hNormalization)                                                 \n",
      "                                                                 \n",
      " flatten (Flatten)           (None, 1024)              0         \n",
      "                                                                 \n",
      " dense (Dense)               (None, 256)               262400    \n",
      "                                                                 \n",
      " dense_1 (Dense)             (None, 10)                2570      \n",
      "                                                                 \n",
      "=================================================================\n",
      "Total params: 369,610\n",
      "Trainable params: 369,354\n",
      "Non-trainable params: 256\n",
      "_________________________________________________________________\n"
     ]
    }
   ],
   "source": [
    "model.summary()"
   ]
  },
  {
   "cell_type": "code",
   "execution_count": 6,
   "metadata": {},
   "outputs": [],
   "source": [
    "model.compile(loss='sparse_categorical_crossentropy', optimizer='adam', metrics=['accuracy'])"
   ]
  },
  {
   "cell_type": "code",
   "execution_count": 7,
   "metadata": {},
   "outputs": [
    {
     "name": "stdout",
     "output_type": "stream",
     "text": [
      "Epoch 1/30\n",
      "840/840 [==============================] - 9s 7ms/step - loss: 0.1262 - accuracy: 0.9609 - val_loss: 0.0944 - val_accuracy: 0.9734\n",
      "Epoch 2/30\n",
      "840/840 [==============================] - 5s 6ms/step - loss: 0.0475 - accuracy: 0.9850 - val_loss: 0.0554 - val_accuracy: 0.9856\n",
      "Epoch 3/30\n",
      "840/840 [==============================] - 6s 7ms/step - loss: 0.0353 - accuracy: 0.9891 - val_loss: 0.0676 - val_accuracy: 0.9841\n",
      "Epoch 4/30\n",
      "840/840 [==============================] - 5s 6ms/step - loss: 0.0270 - accuracy: 0.9924 - val_loss: 0.0664 - val_accuracy: 0.9848\n",
      "Epoch 5/30\n",
      "840/840 [==============================] - 5s 6ms/step - loss: 0.0233 - accuracy: 0.9928 - val_loss: 0.0770 - val_accuracy: 0.9848\n",
      "Epoch 6/30\n",
      "840/840 [==============================] - 5s 6ms/step - loss: 0.0181 - accuracy: 0.9943 - val_loss: 0.0653 - val_accuracy: 0.9859\n",
      "Epoch 7/30\n",
      "840/840 [==============================] - 5s 6ms/step - loss: 0.0166 - accuracy: 0.9950 - val_loss: 0.0933 - val_accuracy: 0.9793\n",
      "Epoch 8/30\n",
      "840/840 [==============================] - 5s 6ms/step - loss: 0.0161 - accuracy: 0.9950 - val_loss: 0.0679 - val_accuracy: 0.9871\n",
      "Epoch 9/30\n",
      "840/840 [==============================] - 6s 7ms/step - loss: 0.0097 - accuracy: 0.9965 - val_loss: 0.0576 - val_accuracy: 0.9894\n",
      "Epoch 10/30\n",
      "840/840 [==============================] - 5s 5ms/step - loss: 0.0119 - accuracy: 0.9963 - val_loss: 0.0781 - val_accuracy: 0.9857\n",
      "Epoch 11/30\n",
      "840/840 [==============================] - 4s 5ms/step - loss: 0.0114 - accuracy: 0.9966 - val_loss: 0.0877 - val_accuracy: 0.9848\n",
      "Epoch 12/30\n",
      "840/840 [==============================] - 4s 5ms/step - loss: 0.0102 - accuracy: 0.9968 - val_loss: 0.0995 - val_accuracy: 0.9860\n",
      "Epoch 13/30\n",
      "840/840 [==============================] - 4s 5ms/step - loss: 0.0143 - accuracy: 0.9963 - val_loss: 0.0638 - val_accuracy: 0.9896\n",
      "Epoch 14/30\n",
      "840/840 [==============================] - 4s 5ms/step - loss: 0.0035 - accuracy: 0.9988 - val_loss: 0.0642 - val_accuracy: 0.9897\n",
      "Epoch 15/30\n",
      "840/840 [==============================] - 5s 6ms/step - loss: 0.0081 - accuracy: 0.9978 - val_loss: 0.0949 - val_accuracy: 0.9869\n",
      "Epoch 16/30\n",
      "840/840 [==============================] - 5s 6ms/step - loss: 0.0122 - accuracy: 0.9963 - val_loss: 0.0802 - val_accuracy: 0.9882\n",
      "Epoch 17/30\n",
      "840/840 [==============================] - 5s 6ms/step - loss: 0.0085 - accuracy: 0.9981 - val_loss: 0.0680 - val_accuracy: 0.9905\n",
      "Epoch 18/30\n",
      "840/840 [==============================] - 5s 6ms/step - loss: 0.0025 - accuracy: 0.9993 - val_loss: 0.0706 - val_accuracy: 0.9902\n",
      "Epoch 19/30\n",
      "840/840 [==============================] - 5s 6ms/step - loss: 0.0102 - accuracy: 0.9977 - val_loss: 0.0761 - val_accuracy: 0.9893\n",
      "Epoch 20/30\n",
      "840/840 [==============================] - 5s 6ms/step - loss: 0.0075 - accuracy: 0.9979 - val_loss: 0.0733 - val_accuracy: 0.9906\n",
      "Epoch 21/30\n",
      "840/840 [==============================] - 5s 6ms/step - loss: 0.0053 - accuracy: 0.9987 - val_loss: 0.0686 - val_accuracy: 0.9903\n",
      "Epoch 22/30\n",
      "840/840 [==============================] - 5s 6ms/step - loss: 0.0050 - accuracy: 0.9989 - val_loss: 0.1077 - val_accuracy: 0.9871\n",
      "Epoch 23/30\n",
      "840/840 [==============================] - 5s 6ms/step - loss: 0.0091 - accuracy: 0.9974 - val_loss: 0.0827 - val_accuracy: 0.9897\n",
      "Epoch 24/30\n",
      "840/840 [==============================] - 5s 6ms/step - loss: 0.0021 - accuracy: 0.9992 - val_loss: 0.0801 - val_accuracy: 0.9912\n",
      "Epoch 25/30\n",
      "840/840 [==============================] - 5s 6ms/step - loss: 0.0031 - accuracy: 0.9994 - val_loss: 0.0908 - val_accuracy: 0.9891\n",
      "Epoch 26/30\n",
      "840/840 [==============================] - 5s 6ms/step - loss: 0.0068 - accuracy: 0.9981 - val_loss: 0.0980 - val_accuracy: 0.9888\n",
      "Epoch 27/30\n",
      "840/840 [==============================] - 5s 6ms/step - loss: 0.0069 - accuracy: 0.9981 - val_loss: 0.1592 - val_accuracy: 0.9827\n",
      "Epoch 28/30\n",
      "840/840 [==============================] - 6s 7ms/step - loss: 0.0062 - accuracy: 0.9986 - val_loss: 0.0887 - val_accuracy: 0.9911\n",
      "Epoch 29/30\n",
      "840/840 [==============================] - 5s 6ms/step - loss: 0.0026 - accuracy: 0.9993 - val_loss: 0.0856 - val_accuracy: 0.9912\n",
      "Epoch 30/30\n",
      "840/840 [==============================] - 5s 6ms/step - loss: 0.0089 - accuracy: 0.9981 - val_loss: 0.0927 - val_accuracy: 0.9890\n"
     ]
    }
   ],
   "source": [
    "history = model.fit(X_train, y_train, batch_size=32, validation_data=(X_val, y_val), epochs=30)"
   ]
  },
  {
   "cell_type": "code",
   "execution_count": 8,
   "metadata": {},
   "outputs": [],
   "source": [
    "model.save('models/hi.h5')"
   ]
  },
  {
   "cell_type": "code",
   "execution_count": null,
   "metadata": {},
   "outputs": [],
   "source": []
  }
 ],
 "metadata": {
  "interpreter": {
   "hash": "cd80b37ac214bc8ab7d99587051bafd896a213bb85b225545321c55dd4499615"
  },
  "kernelspec": {
   "display_name": "Python 3 (ipykernel)",
   "language": "python",
   "name": "python3"
  },
  "language_info": {
   "codemirror_mode": {
    "name": "ipython",
    "version": 3
   },
   "file_extension": ".py",
   "mimetype": "text/x-python",
   "name": "python",
   "nbconvert_exporter": "python",
   "pygments_lexer": "ipython3",
   "version": "3.8.7"
  }
 },
 "nbformat": 4,
 "nbformat_minor": 4
}
